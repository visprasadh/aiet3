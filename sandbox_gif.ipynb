{
 "cells": [
  {
   "cell_type": "code",
   "execution_count": 36,
   "metadata": {},
   "outputs": [],
   "source": [
    "import torch\n",
    "import torch.nn as nn\n",
    "import torch.utils.data as data\n",
    "\n",
    "import matplotlib.pyplot as plt\n",
    "\n",
    "import torchvision\n",
    "import torchvision.transforms as transforms\n",
    "\n",
    "import math\n",
    "\n",
    "from siren import Siren"
   ]
  },
  {
   "cell_type": "code",
   "execution_count": 37,
   "metadata": {},
   "outputs": [],
   "source": [
    "img = plt.imread('hand.gif')\n",
    "sidelen = 32"
   ]
  },
  {
   "cell_type": "code",
   "execution_count": 38,
   "metadata": {},
   "outputs": [],
   "source": [
    "import os\n",
    "from PIL import Image\n",
    "\n",
    "num_key_frames = 1\n",
    "\n",
    "key_frames = []\n",
    "\n",
    "with Image.open('planets.gif') as im:\n",
    "    for i in range(num_key_frames):\n",
    "        im.seek(im.n_frames // num_key_frames * i)\n",
    "        # im.save('{}.png'.format(i))\n",
    "        key_frames.append(im.copy())"
   ]
  },
  {
   "cell_type": "code",
   "execution_count": 39,
   "metadata": {},
   "outputs": [],
   "source": [
    "transformations = transforms.Compose([\n",
    "    # transforms.ToPILImage(),\n",
    "    transforms.Resize((sidelen, sidelen)),\n",
    "    transforms.Grayscale(),\n",
    "    transforms.ToTensor(),\n",
    "    transforms.Normalize(0.5, 0.5)\n",
    "])"
   ]
  },
  {
   "cell_type": "code",
   "execution_count": 40,
   "metadata": {},
   "outputs": [
    {
     "data": {
      "text/plain": [
       "torch.Size([1, 1, 32, 32])"
      ]
     },
     "execution_count": 40,
     "metadata": {},
     "output_type": "execute_result"
    }
   ],
   "source": [
    "frame_tensors = []\n",
    "for frame in key_frames:\n",
    "    frame_tensor = transformations(frame)\n",
    "    frame_tensors.append(frame_tensor)\n",
    "\n",
    "img_tensor = torch.stack(frame_tensors)\n",
    "img_tensor.shape"
   ]
  },
  {
   "cell_type": "code",
   "execution_count": 41,
   "metadata": {},
   "outputs": [],
   "source": [
    "# img_tensor = img_tensor.squeeze()\n",
    "# img_tensor.shape"
   ]
  },
  {
   "cell_type": "code",
   "execution_count": 42,
   "metadata": {},
   "outputs": [],
   "source": [
    "def get_coords(sidelen, time_steps):\n",
    "    x_dim = torch.linspace(-1, 1, steps=sidelen)\n",
    "    y_dim = torch.linspace(-1, 1, steps=sidelen)\n",
    "    t_dim = torch.linspace(0, 1, steps=time_steps)\n",
    "    print(t_dim.shape, x_dim.shape, y_dim.shape)\n",
    "    tensors = (t_dim, x_dim, y_dim)\n",
    "    grid = torch.stack(torch.meshgrid(*tensors), dim=-1)\n",
    "    print(grid.shape)\n",
    "    grid = grid.reshape(-1, 3)\n",
    "    return grid"
   ]
  },
  {
   "cell_type": "code",
   "execution_count": 43,
   "metadata": {},
   "outputs": [],
   "source": [
    "class ImageFitting(data.Dataset):\n",
    "    def __init__(self, sidelength, img):\n",
    "        super().__init__()\n",
    "        # self.pixels = img.permute(1, 2, 3, 0)\n",
    "        self.pixels = img.view(-1)\n",
    "        self.coords = get_coords(sidelength, num_key_frames)\n",
    "\n",
    "    def __len__(self):\n",
    "        return 1\n",
    "\n",
    "    def __getitem__(self, idx):\n",
    "        if idx > 0: raise IndexError\n",
    "\n",
    "        return self.coords, self.pixels"
   ]
  },
  {
   "cell_type": "code",
   "execution_count": 44,
   "metadata": {},
   "outputs": [
    {
     "name": "stdout",
     "output_type": "stream",
     "text": [
      "torch.Size([1]) torch.Size([32]) torch.Size([32])\n",
      "torch.Size([1, 32, 32, 3])\n"
     ]
    },
    {
     "data": {
      "text/plain": [
       "Siren(\n",
       "  (net): Sequential(\n",
       "    (0): SineLayer(\n",
       "      (linear): Linear(in_features=3, out_features=256, bias=True)\n",
       "    )\n",
       "    (1): SineLayer(\n",
       "      (linear): Linear(in_features=256, out_features=256, bias=True)\n",
       "    )\n",
       "    (2): SineLayer(\n",
       "      (linear): Linear(in_features=256, out_features=256, bias=True)\n",
       "    )\n",
       "    (3): SineLayer(\n",
       "      (linear): Linear(in_features=256, out_features=256, bias=True)\n",
       "    )\n",
       "    (4): Linear(in_features=256, out_features=1, bias=True)\n",
       "  )\n",
       ")"
      ]
     },
     "execution_count": 44,
     "metadata": {},
     "output_type": "execute_result"
    }
   ],
   "source": [
    "img_dataset = ImageFitting(sidelen, img_tensor)\n",
    "dataloader = data.DataLoader(img_dataset, batch_size=1, pin_memory=True, num_workers=0)\n",
    "\n",
    "img_siren = Siren(in_features=3, out_features=1, hidden_features=256,\n",
    "                  hidden_layers=3, outermost_linear=True)\n",
    "img_siren.cuda()    "
   ]
  },
  {
   "cell_type": "code",
   "execution_count": 45,
   "metadata": {},
   "outputs": [
    {
     "name": "stdout",
     "output_type": "stream",
     "text": [
      "torch.Size([1, 1024, 3]) torch.Size([1, 1024])\n"
     ]
    }
   ],
   "source": [
    "total_steps = 5000\n",
    "\n",
    "optim = torch.optim.Adam(lr=1e-4, params=img_siren.parameters())\n",
    "\n",
    "model_input, ground_truth = next(iter(dataloader))\n",
    "model_input, ground_truth = model_input.cuda(), ground_truth.cuda()\n",
    "\n",
    "print(model_input.shape, ground_truth.shape)\n",
    "\n",
    "for step in range(total_steps):\n",
    "    model_output, coords = img_siren(model_input)\n",
    "    loss = ((model_output - ground_truth)**2).mean()\n",
    "\n",
    "    optim.zero_grad()\n",
    "    loss.backward()\n",
    "    optim.step()"
   ]
  },
  {
   "cell_type": "code",
   "execution_count": 46,
   "metadata": {},
   "outputs": [
    {
     "name": "stdout",
     "output_type": "stream",
     "text": [
      "1\n"
     ]
    },
    {
     "data": {
      "image/png": "[encoded data removed]",
      "text/plain": [
       "<Figure size 640x480 with 1 Axes>"
      ]
     },
     "metadata": {},
     "output_type": "display_data"
    }
   ],
   "source": [
    "model_input, ground_truth = next(iter(dataloader))\n",
    "model_input, ground_truth = model_input.cuda(), ground_truth.cuda()\n",
    "\n",
    "img_output, _ = img_siren(model_input)\n",
    "# img_output = img_output.view(sidelen, sidelen).cpu().detach().numpy()\n",
    "# plt.imshow(img_output, cmap='gray')\n",
    "img_output = img_output.view(-1, sidelen, sidelen).cpu().detach().numpy()\n",
    "frames = [frame for frame in img_output]\n",
    "print(len(frames))\n",
    "for frame in frames:\n",
    "    plt.imshow(frame, cmap='gray')\n",
    "    plt.show()"
   ]
  },
  {
   "cell_type": "code",
   "execution_count": 47,
   "metadata": {},
   "outputs": [],
   "source": [
    "scale_factor = 2\n",
    "\n",
    "class SuperResolution(data.Dataset):\n",
    "    def __init__(self, sidelength, img):\n",
    "        super().__init__()\n",
    "        self.pixels = img.permute(1, 2, 0).view(-1, 1)\n",
    "        self.coords = get_coords(math.ceil(sidelength * scale_factor), 2)\n",
    "\n",
    "    def __len__(self):\n",
    "        return 1\n",
    "\n",
    "    def __getitem__(self, idx):\n",
    "        if idx > 0: raise IndexError\n",
    "\n",
    "        return self.coords, self.pixels"
   ]
  },
  {
   "cell_type": "code",
   "execution_count": null,
   "metadata": {},
   "outputs": [],
   "source": []
  },
  {
   "cell_type": "code",
   "execution_count": null,
   "metadata": {},
   "outputs": [],
   "source": []
  },
  {
   "cell_type": "code",
   "execution_count": null,
   "metadata": {},
   "outputs": [],
   "source": []
  },
  {
   "cell_type": "code",
   "execution_count": null,
   "metadata": {},
   "outputs": [],
   "source": []
  },
  {
   "cell_type": "code",
   "execution_count": null,
   "metadata": {},
   "outputs": [],
   "source": []
  }
 ],
 "metadata": {
  "kernelspec": {
   "display_name": "rico",
   "language": "python",
   "name": "python3"
  },
  "language_info": {
   "codemirror_mode": {
    "name": "ipython",
    "version": 3
   },
   "file_extension": ".py",
   "mimetype": "text/x-python",
   "name": "python",
   "nbconvert_exporter": "python",
   "pygments_lexer": "ipython3",
   "version": "3.12.2"
  }
 },
 "nbformat": 4,
 "nbformat_minor": 2
}
